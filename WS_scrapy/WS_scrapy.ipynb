{
 "cells": [
  {
   "cell_type": "code",
   "execution_count": 1,
   "metadata": {},
   "outputs": [],
   "source": [
    "import scrapy"
   ]
  },
  {
   "cell_type": "code",
   "execution_count": 13,
   "metadata": {},
   "outputs": [],
   "source": [
    "class WorldometersSpider(scrapy.Spider):\n",
    "    name = 'worldometers'\n",
    "    #link de donde se va extraer la data la raiz\n",
    "    allowed_domains = ['www.worldometers.info']\n",
    "    #pagina a la cual se le va realizar el web scraping\n",
    "    start_urls = ['https://www.worldometers.info/world-population/population-by-country/']\n",
    "\n",
    "    def parse(self, response):\n",
    "        # Obtenemos toda las filas de la tabla\n",
    "        rows = response.xpath('//tr')\n",
    "\n",
    "        for row in rows:\n",
    "            # Extracting title, country names and population\n",
    "            # title = response.xpath('//h1/text()').get()\n",
    "            countries = row.xpath('./td/a/text()').get()\n",
    "            population = row.xpath('./td[3]/text()').get()\n",
    "\n",
    "            # Retorna la extracción de datos\n",
    "            yield {\n",
    "                # 'titles': title,\n",
    "                'countries': countries,\n",
    "                'population': population,\n",
    "            }"
   ]
  }
 ],
 "metadata": {
  "kernelspec": {
   "display_name": "Python 3.10.7 ('venv': venv)",
   "language": "python",
   "name": "python3"
  },
  "language_info": {
   "codemirror_mode": {
    "name": "ipython",
    "version": 3
   },
   "file_extension": ".py",
   "mimetype": "text/x-python",
   "name": "python",
   "nbconvert_exporter": "python",
   "pygments_lexer": "ipython3",
   "version": "3.10.7"
  },
  "orig_nbformat": 4,
  "vscode": {
   "interpreter": {
    "hash": "4820463d0f3d2544e01f9b2673fcf82b105be5600b197a9031f8c21aed5bbb11"
   }
  }
 },
 "nbformat": 4,
 "nbformat_minor": 2
}
